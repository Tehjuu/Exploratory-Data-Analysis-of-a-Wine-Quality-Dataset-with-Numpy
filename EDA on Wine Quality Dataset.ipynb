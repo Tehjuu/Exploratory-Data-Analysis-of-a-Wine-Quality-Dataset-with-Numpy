{
 "cells": [
  {
   "cell_type": "markdown",
   "id": "32fe8d80",
   "metadata": {},
   "source": [
    "## Exploratory Data Analysis on the Wine Quality Dataset with Numpy"
   ]
  },
  {
   "cell_type": "markdown",
   "id": "a3a0bb61",
   "metadata": {},
   "source": [
    "#### This project is an Exploratory Data Analysis on the Wine Quality Dataset. The Dataset contains 13 columns, including id, fixed acidity, volatile acid, alcohol, quantity etc.\n",
    "\n",
    "#### This project is to master our skill with the Numpy library. We will be implementing all necessary Numpy functions such as importing data, index and slicing data, mean, max, standard dev etc.\n",
    "\n",
    "### Sit back, and enjoy"
   ]
  },
  {
   "cell_type": "markdown",
   "id": "5007e0f3",
   "metadata": {},
   "source": [
    "## Import Library"
   ]
  },
  {
   "cell_type": "code",
   "execution_count": 1,
   "id": "78260911",
   "metadata": {},
   "outputs": [],
   "source": [
    "import numpy as np\n",
    "# The data structure of numpy is a list but it is more powerful than a list"
   ]
  },
  {
   "cell_type": "markdown",
   "id": "6188a96d",
   "metadata": {},
   "source": [
    "## Import Dataset"
   ]
  },
  {
   "cell_type": "code",
   "execution_count": 5,
   "id": "2f277757",
   "metadata": {},
   "outputs": [
    {
     "data": {
      "text/plain": [
       "array([[   7,    0,    0, ...,    9,    5,    0],\n",
       "       [   7,    0,    0, ...,    9,    5,    1],\n",
       "       [   7,    0,    0, ...,    9,    5,    2],\n",
       "       ...,\n",
       "       [   6,    0,    0, ...,   10,    5, 1594],\n",
       "       [   5,    0,    0, ...,   11,    6, 1595],\n",
       "       [   5,    0,    0, ...,   10,    5, 1597]])"
      ]
     },
     "execution_count": 5,
     "metadata": {},
     "output_type": "execute_result"
    }
   ],
   "source": [
    "#nan - not a number\n",
    "# csv- comma separated values\n",
    "# genfromtxt - generate from text\n",
    "# import wine dataset into numpy\n",
    "wines = np.genfromtxt('./WineQT.csv',\n",
    "                      comments = \"A wine quality dataset\",\n",
    "                      delimiter=\",\",\n",
    "                      skip_header=1,\n",
    "                      dtype =np.int32)\n",
    "wines"
   ]
  },
  {
   "cell_type": "markdown",
   "id": "f96e357a",
   "metadata": {},
   "source": [
    "## Understand the data"
   ]
  },
  {
   "cell_type": "code",
   "execution_count": 12,
   "id": "69a00cc5",
   "metadata": {},
   "outputs": [
    {
     "name": "stdout",
     "output_type": "stream",
     "text": [
      "The shape of the wine dataset is: (1143, 13)\n",
      "The dimension of the wine dataset is: 2\n"
     ]
    }
   ],
   "source": [
    "print(\"The shape of the wine dataset is:\", wines.shape)\n",
    "print(\"The dimension of the wine dataset is:\", wines.ndim)"
   ]
  },
  {
   "cell_type": "markdown",
   "id": "20c7114f",
   "metadata": {},
   "source": [
    "## Return the first 10 rows of the Dataset"
   ]
  },
  {
   "cell_type": "code",
   "execution_count": 20,
   "id": "004bdd4f",
   "metadata": {},
   "outputs": [
    {
     "name": "stdout",
     "output_type": "stream",
     "text": [
      "Display: \n",
      " [[ 7  0  0  1  0 11 34  0  3  0  9  5  0]\n",
      " [ 7  0  0  2  0 25 67  0  3  0  9  5  1]\n",
      " [ 7  0  0  2  0 15 54  0  3  0  9  5  2]\n",
      " [11  0  0  1  0 17 60  0  3  0  9  6  3]\n",
      " [ 7  0  0  1  0 11 34  0  3  0  9  5  4]\n",
      " [ 7  0  0  1  0 13 40  0  3  0  9  5  5]\n",
      " [ 7  0  0  1  0 15 59  0  3  0  9  5  6]\n",
      " [ 7  0  0  1  0 15 21  0  3  0 10  7  7]\n",
      " [ 7  0  0  2  0  9 18  0  3  0  9  7  8]\n",
      " [ 6  0  0  1  0 15 65  0  3  0  9  5 10]\n",
      " [ 5  0  0  1  0 16 59  0  3  0  9  5 12]]\n"
     ]
    }
   ],
   "source": [
    "#wines[0:11]: \n",
    "\n",
    "#display the first 10 rows\n",
    "first_ten_rows = wines[0:11]\n",
    "print(\"Display: \\n\", first_ten_rows)"
   ]
  },
  {
   "cell_type": "markdown",
   "id": "a7e4ad0c",
   "metadata": {},
   "source": [
    "## Return the 12th column of the Dataset"
   ]
  },
  {
   "cell_type": "code",
   "execution_count": 22,
   "id": "471857dc",
   "metadata": {},
   "outputs": [
    {
     "name": "stdout",
     "output_type": "stream",
     "text": [
      "Display: \n",
      " [5 5 5 ... 5 6 5]\n"
     ]
    }
   ],
   "source": [
    "#wines[:,11]\n",
    "\n",
    "#display the 12th column\n",
    "\n",
    "twelth_con = wines[:, 11]\n",
    "print(\"Display: \\n\", twelth_con)"
   ]
  },
  {
   "cell_type": "markdown",
   "id": "eb363e5b",
   "metadata": {},
   "source": [
    "## Find the sum of all the elements between column 1 to 10"
   ]
  },
  {
   "cell_type": "code",
   "execution_count": 24,
   "id": "f552e10f",
   "metadata": {},
   "outputs": [
    {
     "name": "stdout",
     "output_type": "stream",
     "text": [
      "Summation:  87680\n"
     ]
    }
   ],
   "source": [
    "#np.sum(wines[0:11])\n",
    "\n",
    "one_to_ten_col = wines[:,1:11].sum()\n",
    "\n",
    "print(\"Summation: \",one_to_ten_col)\n"
   ]
  },
  {
   "cell_type": "markdown",
   "id": "d4e496e9",
   "metadata": {},
   "source": [
    "## Find the mean of the array"
   ]
  },
  {
   "cell_type": "code",
   "execution_count": 26,
   "id": "f7fcf5b3",
   "metadata": {},
   "outputs": [
    {
     "name": "stdout",
     "output_type": "stream",
     "text": [
      "Mean Value:  68.86163268053032\n"
     ]
    }
   ],
   "source": [
    "mean_of_wines = wines.mean()\n",
    "print(\"Mean Value: \", mean_of_wines)\n",
    "\n",
    "#print(\"The mean of the array is:\", np.mean(wines))"
   ]
  },
  {
   "cell_type": "code",
   "execution_count": 31,
   "id": "4a606680",
   "metadata": {},
   "outputs": [
    {
     "name": "stdout",
     "output_type": "stream",
     "text": [
      "Mean Value:  68.86163268053032\n"
     ]
    }
   ],
   "source": [
    "sum_of_wine = wines.sum()\n",
    "size_of_wine = wines.size\n",
    "\n",
    "print(\"Mean Value: \", sum_of_wine/size_of_wine)"
   ]
  },
  {
   "cell_type": "markdown",
   "id": "a7588bed",
   "metadata": {},
   "source": [
    "## Find the standard deviation of the array"
   ]
  },
  {
   "cell_type": "code",
   "execution_count": 32,
   "id": "7bbc41bf",
   "metadata": {},
   "outputs": [
    {
     "name": "stdout",
     "output_type": "stream",
     "text": [
      "Standard deviation:  248.87134655790663\n"
     ]
    }
   ],
   "source": [
    "#print(\"The standard deviation of the array is:\", np.std(wines))\n",
    "\n",
    "std_dev = wines.std()\n",
    "\n",
    "print(\"Standard deviation: \", std_dev)"
   ]
  },
  {
   "cell_type": "markdown",
   "id": "f523a7b1",
   "metadata": {},
   "source": [
    "## Find the minimum value in the array"
   ]
  },
  {
   "cell_type": "code",
   "execution_count": 33,
   "id": "59865117",
   "metadata": {},
   "outputs": [
    {
     "name": "stdout",
     "output_type": "stream",
     "text": [
      "Minimum value:  0\n"
     ]
    }
   ],
   "source": [
    "min_value = wines.min()\n",
    "print(\"Minimum value: \", min_value)\n",
    "\n",
    "#print(\"The minimum value in the array is:\", np.max(wines))"
   ]
  },
  {
   "cell_type": "markdown",
   "id": "82dd3c9d",
   "metadata": {},
   "source": [
    "## Find the maximum value in the array"
   ]
  },
  {
   "cell_type": "code",
   "execution_count": 34,
   "id": "a0ed7f80",
   "metadata": {},
   "outputs": [
    {
     "name": "stdout",
     "output_type": "stream",
     "text": [
      "Maximum value:  1597\n"
     ]
    }
   ],
   "source": [
    "max_value = wines.max()\n",
    "print(\"Maximum value: \", max_value)\n",
    "\n",
    "#print(\"The maximum value in the array is:\", np.min(wines))"
   ]
  },
  {
   "cell_type": "markdown",
   "id": "a4e0bcc1",
   "metadata": {},
   "source": [
    "## Find where the quality rating of the wine is higher than 5"
   ]
  },
  {
   "cell_type": "code",
   "execution_count": 39,
   "id": "a41afbf4",
   "metadata": {},
   "outputs": [
    {
     "name": "stdout",
     "output_type": "stream",
     "text": [
      "Original Column:  [5 5 5 ... 5 6 5]\n",
      "Quality_greater_than_5:  [6 7 7 7 6 6 6 6 6 7 6 6 6 6 6 6 6 6 6 6 6 6 6 6 6 6 6 7 6 6 6 6 6 6 6 6 6\n",
      " 6 6 6 6 6 7 6 7 7 6 6 6 6 6 6 6 7 6 6 6 6 6 6 7 7 6 6 6 6 7 8 6 6 6 6 6 6\n",
      " 8 7 6 7 7 6 6 7 7 6 6 6 6 6 6 6 6 6 7 6 6 6 7 6 7 7 6 7 6 6 6 6 6 6 6 6 7\n",
      " 7 6 6 7 7 7 6 6 6 7 6 6 6 8 6 7 6 6 6 6 7 6 7 6 6 7 7 7 6 6 6 7 6 6 6 8 7\n",
      " 7 6 6 6 6 7 8 6 6 6 6 6 6 6 6 6 8 6 6 7 7 6 6 8 6 8 6 6 7 7 7 7 7 6 7 6 6\n",
      " 7 7 6 6 6 6 6 6 6 6 7 6 6 6 6 6 6 6 6 6 6 6 6 6 6 6 6 6 6 7 8 6 6 6 6 6 6\n",
      " 6 6 6 6 6 6 6 7 6 6 7 6 6 6 6 6 6 6 6 6 6 6 6 6 6 6 6 6 6 6 6 6 6 6 6 6 6\n",
      " 6 6 6 6 6 6 6 6 6 6 6 6 6 7 6 7 6 6 7 6 6 6 7 7 6 7 7 7 6 6 6 6 6 7 7 7 6\n",
      " 6 6 6 6 6 6 6 6 7 6 7 7 7 7 6 6 6 6 6 6 6 6 6 6 7 6 7 6 6 7 7 7 7 7 7 7 7\n",
      " 7 7 6 7 6 6 6 6 7 7 6 6 6 6 6 6 6 6 7 7 7 7 7 7 6 6 6 7 6 6 6 6 7 6 6 7 6\n",
      " 7 7 7 6 6 6 6 6 6 6 7 6 7 7 7 6 8 6 6 6 6 7 7 7 6 6 7 7 6 6 7 6 7 7 8 6 6\n",
      " 7 6 6 6 6 6 6 7 6 6 7 6 6 6 6 6 6 8 6 7 6 6 7 7 7 6 6 6 6 6 6 6 6 6 7 6 6\n",
      " 6 6 7 7 7 7 6 6 6 6 6 6 6 6 6 7 6 6 6 6 6 6 7 8 7 7 7 7 6 6 6 6 6 6 6 6 7\n",
      " 6 6 6 6 6 6 6 6 6 6 6 6 6 6 6 6 6 6 7 6 6 6 6 6 6 6 6 6 6 6 6 6 6 6 6 6 6\n",
      " 6 6 6 6 6 6 6 6 6 6 6 6 6 6 6 6 6 6 6 6 6 6 6 6 6 6 8 6 6 6 7 6 6 6 6 7 6\n",
      " 6 7 6 6 6 8 7 7 7 6 6 7 6 6 7 7 6 7 7 6 7 6 6 6 6 6 6 6 6 6 6 6 6 6 6 6 6\n",
      " 6 7 6 6 7 6 8 6 7 6 6 6 6 6 6 6 6 6 6 6 6 7 6 6 6 6 6 6 6]\n",
      "Total Numbers:  621\n"
     ]
    }
   ],
   "source": [
    "quality_rating_col = wines[:,-2]\n",
    "\n",
    "quality_rating_greater_than_5 = quality_rating_col > 5 # boolean array\n",
    "\n",
    "display = quality_rating_col[quality_rating_greater_than_5 ]\n",
    "\n",
    "print(\"Original Column: \", quality_rating_col)\n",
    "print(\"Quality_greater_than_5: \", display)\n",
    "#wines[:,11] > 5\n",
    "display\n",
    "#find the total numbers of quality rating greater than 5\n",
    "print(\"Total Numbers: \", display.size)"
   ]
  },
  {
   "cell_type": "markdown",
   "id": "2a47e889",
   "metadata": {},
   "source": [
    "## Find where the quality of the wine is equal to 10"
   ]
  },
  {
   "cell_type": "code",
   "execution_count": 41,
   "id": "0effacd0",
   "metadata": {},
   "outputs": [
    {
     "name": "stdout",
     "output_type": "stream",
     "text": [
      "Original Column:  [5 5 5 ... 5 6 5]\n",
      "Quality equal to 10:  []\n",
      "No wine quality Found\n"
     ]
    }
   ],
   "source": [
    "def send_message(data):\n",
    "    if len(data) == 0:\n",
    "        print(\"No wine quality Found\")\n",
    "    else:\n",
    "        print(f\"The total of {len(data)} quality is found greater than 10\")\n",
    "\n",
    "quality_rating_col = wines[:,-2] # original column\n",
    "\n",
    "quality_rating_equal_10 = quality_rating_col == 10 # boolean array\n",
    "\n",
    "display = quality_rating_col[quality_rating_equal_10 ]\n",
    "\n",
    "print(\"Original Column: \", quality_rating_col)\n",
    "print(\"Quality equal to 10: \", display)\n",
    "\n",
    "#call function\n",
    "send_message(display)\n",
    "#wines[:,11] == 10\n",
    "    "
   ]
  },
  {
   "cell_type": "markdown",
   "id": "775dd2f4",
   "metadata": {},
   "source": [
    "## Find where the quality rating is greater than 5 and the alcohol rating is greater than 7"
   ]
  },
  {
   "cell_type": "code",
   "execution_count": 67,
   "id": "9e8c47d4",
   "metadata": {},
   "outputs": [
    {
     "data": {
      "text/plain": [
       "array([[  11,    0,    0, ...,    9,    6,    3],\n",
       "       [   7,    0,    0, ...,   10,    7,    7],\n",
       "       [   7,    0,    0, ...,    9,    7,    8],\n",
       "       ...,\n",
       "       [   6,    0,    0, ...,   11,    6, 1592],\n",
       "       [   6,    0,    0, ...,    9,    6, 1593],\n",
       "       [   5,    0,    0, ...,   11,    6, 1595]])"
      ]
     },
     "execution_count": 67,
     "metadata": {},
     "output_type": "execute_result"
    }
   ],
   "source": [
    "quality_greater_than_5_and_alcohol_greater_than_7 = (wines[:,-2] > 5) & (wines[:,-3] > 7)\n",
    "wines[quality_greater_than_5_and_alcohol_greater_than_7]\n"
   ]
  },
  {
   "cell_type": "code",
   "execution_count": 80,
   "id": "3cf1ca35",
   "metadata": {},
   "outputs": [
    {
     "data": {
      "text/plain": [
       "array([[   6,    0,    0, ...,   10,    5,   30],\n",
       "       [   7,    0,    0, ...,   10,    5,   40],\n",
       "       [   8,    0,    0, ...,   10,    5,   43],\n",
       "       ...,\n",
       "       [   7,    0,    0, ...,   10,    5, 1567],\n",
       "       [   6,    0,    0, ...,   10,    5, 1594],\n",
       "       [   5,    0,    0, ...,   10,    5, 1597]])"
      ]
     },
     "execution_count": 80,
     "metadata": {},
     "output_type": "execute_result"
    }
   ],
   "source": [
    "ab = (wines[:,-2] == 5) & (wines[:,-3] == 10)\n",
    "#list(ab)\n",
    "wines[ab]\n",
    "#for val in list(ab):\n",
    "    #if val == True:\n",
    "        #print(\"Yes\")\n",
    "        \n",
    "### This is me just trying to see the update on github"
   ]
  },
  {
   "cell_type": "code",
   "execution_count": null,
   "id": "dc43a4b0",
   "metadata": {},
   "outputs": [],
   "source": []
  }
 ],
 "metadata": {
  "kernelspec": {
   "display_name": "Python 3 (ipykernel)",
   "language": "python",
   "name": "python3"
  },
  "language_info": {
   "codemirror_mode": {
    "name": "ipython",
    "version": 3
   },
   "file_extension": ".py",
   "mimetype": "text/x-python",
   "name": "python",
   "nbconvert_exporter": "python",
   "pygments_lexer": "ipython3",
   "version": "3.9.12"
  }
 },
 "nbformat": 4,
 "nbformat_minor": 5
}
